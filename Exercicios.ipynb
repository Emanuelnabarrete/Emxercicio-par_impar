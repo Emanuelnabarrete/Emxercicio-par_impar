{
  "nbformat": 4,
  "nbformat_minor": 0,
  "metadata": {
    "colab": {
      "provenance": [],
      "authorship_tag": "ABX9TyNgz2qC4k2RTK/S8Ik3uWrx",
      "include_colab_link": true
    },
    "kernelspec": {
      "name": "python3",
      "display_name": "Python 3"
    },
    "language_info": {
      "name": "python"
    }
  },
  "cells": [
    {
      "cell_type": "markdown",
      "metadata": {
        "id": "view-in-github",
        "colab_type": "text"
      },
      "source": [
        "<a href=\"https://colab.research.google.com/github/Emanuelnabarrete/Emxercicio-par_impar/blob/main/Exercicios.ipynb\" target=\"_parent\"><img src=\"https://colab.research.google.com/assets/colab-badge.svg\" alt=\"Open In Colab\"/></a>"
      ]
    },
    {
      "cell_type": "code",
      "execution_count": null,
      "metadata": {
        "colab": {
          "base_uri": "https://localhost:8080/"
        },
        "id": "7bXHGyKhy2V3",
        "outputId": "1334b489-66a8-4113-ca09-c3098310e97c"
      },
      "outputs": [
        {
          "output_type": "stream",
          "name": "stdout",
          "text": [
            "Coloque o numero:  1234112\n",
            "É par \n"
          ]
        }
      ],
      "source": [
        "num = int (input('Coloque o numero:  ' ))\n",
        "resto = num%2\n",
        "if resto == 0:\n",
        "  print('É par ')\n",
        "else:\n",
        "  print('é impar') "
      ]
    },
    {
      "cell_type": "code",
      "source": [],
      "metadata": {
        "id": "ucir1rIazIUl"
      },
      "execution_count": null,
      "outputs": []
    },
    {
      "cell_type": "code",
      "source": [],
      "metadata": {
        "colab": {
          "base_uri": "https://localhost:8080/"
        },
        "id": "0nNQ8k8rz1Qh",
        "outputId": "f43101cf-4f10-40ed-8009-4c2d233757cf"
      },
      "execution_count": null,
      "outputs": [
        {
          "output_type": "execute_result",
          "data": {
            "text/plain": [
              "[]"
            ]
          },
          "metadata": {},
          "execution_count": 10
        }
      ]
    },
    {
      "cell_type": "code",
      "source": [],
      "metadata": {
        "id": "dyGgsPri0Uyf"
      },
      "execution_count": null,
      "outputs": []
    }
  ]
}